{
 "cells": [
  {
   "cell_type": "code",
   "execution_count": null,
   "id": "fae26a9b",
   "metadata": {},
   "outputs": [],
   "source": [
    "from tf.convert.xml import XML\n",
    "from lowfat_sergpanf_2025_02_09_vstudioVer import convertTaskCustom\n",
    "from tf.advanced.helpers import dm\n",
    "from tf.advanced.zipdata import zipAll, addCheckout\n",
    "from tf.app import use\n",
    "color = {1: \"#47edff\", 2: \"#81ee93\", 3: \"#eaff47\", 4: \"#ffcb47\", 5: \"#ffa647\", 6: \"#ff7b47\", 7: \"#ff479d\", 8: \"#ff4747\", 9: \"#477eff\", 10: \"#a647ff\"}"
   ]
  },
  {
   "cell_type": "code",
   "execution_count": 17,
   "id": "1d3f3eaf",
   "metadata": {},
   "outputs": [],
   "source": [
    "keywordAtts = set(\n",
    "    \"\"\"\n",
    "    case\n",
    "    class\n",
    "    number\n",
    "    gender\n",
    "    mood\n",
    "    person\n",
    "    role\n",
    "    tense\n",
    "    type\n",
    "    voice\n",
    "    degree\n",
    "    articular\n",
    "\"\"\".strip().split()\n",
    ")\n",
    "\n",
    "trimAtts = set(\n",
    "    \"\"\"\n",
    "    domain\n",
    "    frame\n",
    "    gloss\n",
    "    id\n",
    "    lemma\n",
    "    ln\n",
    "    morph\n",
    "    normalized\n",
    "    ref\n",
    "    referent\n",
    "    rule\n",
    "    strong\n",
    "    subjref\n",
    "    unicode\n",
    "\"\"\".strip().split()\n",
    ")"
   ]
  },
  {
   "cell_type": "code",
   "execution_count": 19,
   "id": "6f68c88e",
   "metadata": {},
   "outputs": [],
   "source": [
    "renameAtts = {\n",
    "    \"Rule\": \"crule\",\n",
    "    \"frame\": \"framespec\",\n",
    "    \"subjref\": \"subjrefspec\",\n",
    "    \"class\": \"cls\",\n",
    "    \"type\": \"typems\",\n",
    "}"
   ]
  },
  {
   "cell_type": "code",
   "execution_count": 21,
   "id": "a1b3f046",
   "metadata": {},
   "outputs": [
    {
     "data": {
      "text/plain": [
       "'X = XML(\\n    convertTaskCustom=convertTaskCustom,\\n    keywordAtts=keywordAtts,\\n    trimAtts=trimAtts,\\n    renameAtts=renameAtts,\\n    verbose=1,\\n    xml=0,\\n    tf=\"1.0.0\"\\n)'"
      ]
     },
     "execution_count": 21,
     "metadata": {},
     "output_type": "execute_result"
    }
   ],
   "source": [
    "'''X = XML(\n",
    "    convertTaskCustom=convertTaskCustom,\n",
    "    keywordAtts=keywordAtts,\n",
    "    trimAtts=trimAtts,\n",
    "    renameAtts=renameAtts,\n",
    "    verbose=1,\n",
    "    xml=0,\n",
    "    tf=\"1.0.0\"\n",
    ")'''"
   ]
  },
  {
   "cell_type": "code",
   "execution_count": 23,
   "id": "b8a57faa",
   "metadata": {},
   "outputs": [
    {
     "data": {
      "text/plain": [
       "'X = XML()'"
      ]
     },
     "execution_count": 23,
     "metadata": {},
     "output_type": "execute_result"
    }
   ],
   "source": [
    "'''X = XML()'''"
   ]
  },
  {
   "cell_type": "code",
   "execution_count": 25,
   "id": "aaf39bfa-90a0-4a05-9a42-5d98e14ddd68",
   "metadata": {},
   "outputs": [
    {
     "name": "stdout",
     "output_type": "stream",
     "text": [
      "H:\\My Drive\\eduAndrews\\_WORK\\TF_Projects\n",
      "H:\\My Drive\\eduAndrews\\_WORK\\TF_Projects\n"
     ]
    }
   ],
   "source": [
    "import os\n",
    "print(os.getenv(\"USERPROFILE\"))  # Should print C:\\CustomHome\n",
    "print(os.path.expanduser(\"~\"))  # Should also reflect the change"
   ]
  },
  {
   "cell_type": "code",
   "execution_count": 27,
   "id": "dd7b5a7b",
   "metadata": {},
   "outputs": [
    {
     "name": "stdout",
     "output_type": "stream",
     "text": [
      "Working in repository sergpanf/LXX-Link in back-end TF.Convert.XML_BackEnd\n",
      "XML data version is 2025-02-05 (most recent)\n",
      "TF data version is 0.0.1 (explicit existing)\n",
      "Processing instructions will be ignored\n"
     ]
    }
   ],
   "source": [
    "X = XML(\n",
    "    convertTaskCustom=convertTaskCustom,\n",
    "    keywordAtts=keywordAtts,\n",
    "    trimAtts=trimAtts,\n",
    "    renameAtts=renameAtts,\n",
    "    verbose=1,\n",
    "    xml=\"2025-02-05\",\n",
    "    tf=\"0.0.1\"\n",
    ")"
   ]
  },
  {
   "cell_type": "code",
   "execution_count": 29,
   "id": "d00882d5-679b-43a5-9cf2-f8f48a100e97",
   "metadata": {},
   "outputs": [
    {
     "name": "stdout",
     "output_type": "stream",
     "text": [
      "XML to TF checking: ~/TF.Convert.XML_BackEnd/sergpanf/LXX-Link/xml/2025-02-05 => ~/TF.Convert.XML_BackEnd/sergpanf/LXX-Link/report/2025-02-05\n",
      "Processing instructions are ignored\n",
      "Start folder mt-sync-lxx:\n",
      "   1 01-Gen-001-lowfat.xml                             \n",
      "End   folder mt-sync-lxx\n",
      "\n",
      "918 info line(s) written to ~/TF.Convert.XML_BackEnd/sergpanf/LXX-Link/report/2025-02-05/elements.txt\n",
      "0 error(s) in 0 file(s) written to ~/TF.Convert.XML_BackEnd/sergpanf/LXX-Link/report/2025-02-05/errors.txt\n",
      "6 tags of which 0 with multiple namespaces written to ~/TF.Convert.XML_BackEnd/sergpanf/LXX-Link/report/2025-02-05/namespaces.txt\n"
     ]
    },
    {
     "data": {
      "text/plain": [
       "True"
      ]
     },
     "execution_count": 29,
     "metadata": {},
     "output_type": "execute_result"
    }
   ],
   "source": [
    "X.task(check=True)"
   ]
  },
  {
   "cell_type": "code",
   "execution_count": null,
   "id": "60345564-41c1-4da6-b56b-3d46d831b0cb",
   "metadata": {},
   "outputs": [],
   "source": []
  },
  {
   "cell_type": "code",
   "execution_count": 32,
   "id": "ed64c303-41ca-4e9a-9daa-67cad487ec4a",
   "metadata": {},
   "outputs": [
    {
     "name": "stdout",
     "output_type": "stream",
     "text": [
      "C:\\Users\\SergPanf\\AppData\\Roaming\\Python\\Python312\\site-packages\\tf\n"
     ]
    }
   ],
   "source": [
    "import tf\n",
    "import os\n",
    "print (os.path.dirname(tf.__file__))"
   ]
  },
  {
   "cell_type": "code",
   "execution_count": null,
   "id": "a775f923-c10a-4934-9351-dffc241dd66b",
   "metadata": {},
   "outputs": [],
   "source": []
  },
  {
   "cell_type": "code",
   "execution_count": null,
   "id": "d505beba-c827-4249-b153-ecbd365a8a34",
   "metadata": {},
   "outputs": [],
   "source": []
  },
  {
   "cell_type": "code",
   "execution_count": 39,
   "id": "a4591097-4a62-48af-b36f-3927ccb6cf5e",
   "metadata": {
    "scrolled": true
   },
   "outputs": [
    {
     "name": "stdout",
     "output_type": "stream",
     "text": [
      "XML to TF converting: ~/TF.Convert.XML_BackEnd/sergpanf/LXX-Link/xml/2025-02-05 => ~/TF.Convert.XML_BackEnd/sergpanf/LXX-Link/tf/0.0.1\n",
      "  0.01s Not all of the warp features otype and oslots are present in\n",
      "~/TF.Convert.XML_BackEnd/sergpanf/LXX-Link/tf/0.0.1\n",
      "  0.01s Only the Feature and Edge APIs will be enabled\n",
      "  0.01s Warp feature \"otext\" not found. Working without Text-API\n",
      "\n",
      "  0.00s Importing data from walking through the source ...\n",
      "   |     0.00s Preparing metadata... \n",
      "   |     0.00s No structure nodes will be set up\n",
      "   |   SECTION   TYPES:    book, chapter, verse\n",
      "   |   SECTION   FEATURES: book, chapter, verse\n",
      "   |   STRUCTURE TYPES:    \n",
      "   |   STRUCTURE FEATURES: \n",
      "   |   TEXT      FEATURES:\n",
      "   |      |   lex-orig-plain       lemma, trailer\n",
      "   |      |   lex-translit-plain   lemmatranslit, trailer\n",
      "   |      |   text-orig-full       after, before, text\n",
      "   |      |   text-orig-plain      text, trailer\n",
      "   |      |   text-translit-plain  trailer, translit\n",
      "   |      |   text-unaccent-plain  trailer, unaccent\n",
      "   |     0.02s OK\n",
      "   |     0.00s Following director... \n",
      "   1 01-Gen-001-lowfat.xml                             \n",
      "\n"
     ]
    },
    {
     "ename": "TypeError",
     "evalue": "can only concatenate str (not \"NoneType\") to str",
     "output_type": "error",
     "traceback": [
      "\u001b[1;31m---------------------------------------------------------------------------\u001b[0m",
      "\u001b[1;31mTypeError\u001b[0m                                 Traceback (most recent call last)",
      "Cell \u001b[1;32mIn[39], line 1\u001b[0m\n\u001b[1;32m----> 1\u001b[0m X\u001b[38;5;241m.\u001b[39mtask(convert\u001b[38;5;241m=\u001b[39m\u001b[38;5;28;01mTrue\u001b[39;00m)\n",
      "File \u001b[1;32mC:\\Users\\SergPanf\\AppData\\Roaming\\Python\\Python312\\site-packages\\tf\\convert\\xml.py:1229\u001b[0m, in \u001b[0;36mXML.task\u001b[1;34m(self, check, convert, load, app, browse, verbose)\u001b[0m\n\u001b[0;32m   1221\u001b[0m \u001b[38;5;28;01mfor\u001b[39;00m condition, method, kwargs \u001b[38;5;129;01min\u001b[39;00m (\n\u001b[0;32m   1222\u001b[0m     (check, \u001b[38;5;28mself\u001b[39m\u001b[38;5;241m.\u001b[39mcheckTask, {}),\n\u001b[0;32m   1223\u001b[0m     (convert, \u001b[38;5;28mself\u001b[39m\u001b[38;5;241m.\u001b[39mconvertTask, {}),\n\u001b[1;32m   (...)\u001b[0m\n\u001b[0;32m   1226\u001b[0m     (browse, \u001b[38;5;28mself\u001b[39m\u001b[38;5;241m.\u001b[39mbrowseTask, {}),\n\u001b[0;32m   1227\u001b[0m ):\n\u001b[0;32m   1228\u001b[0m     \u001b[38;5;28;01mif\u001b[39;00m condition:\n\u001b[1;32m-> 1229\u001b[0m         method(\u001b[38;5;241m*\u001b[39m\u001b[38;5;241m*\u001b[39mkwargs)\n\u001b[0;32m   1230\u001b[0m         \u001b[38;5;28;01mif\u001b[39;00m \u001b[38;5;129;01mnot\u001b[39;00m \u001b[38;5;28mself\u001b[39m\u001b[38;5;241m.\u001b[39mgood:\n\u001b[0;32m   1231\u001b[0m             \u001b[38;5;28;01mbreak\u001b[39;00m\n",
      "File \u001b[1;32mC:\\Users\\SergPanf\\AppData\\Roaming\\Python\\Python312\\site-packages\\tf\\convert\\xml.py:832\u001b[0m, in \u001b[0;36mXML.convertTask\u001b[1;34m(self)\u001b[0m\n\u001b[0;32m    829\u001b[0m etree \u001b[38;5;241m=\u001b[39m \u001b[38;5;28mself\u001b[39m\u001b[38;5;241m.\u001b[39metree\n\u001b[0;32m    830\u001b[0m convertTaskCustom \u001b[38;5;241m=\u001b[39m \u001b[38;5;28mself\u001b[39m\u001b[38;5;241m.\u001b[39mconvertTaskCustom\n\u001b[1;32m--> 832\u001b[0m \u001b[38;5;28;01mreturn\u001b[39;00m (\n\u001b[0;32m    833\u001b[0m     convertTaskDefault(etree)\n\u001b[0;32m    834\u001b[0m     \u001b[38;5;28;01mif\u001b[39;00m convertTaskCustom \u001b[38;5;129;01mis\u001b[39;00m \u001b[38;5;28;01mNone\u001b[39;00m\n\u001b[0;32m    835\u001b[0m     \u001b[38;5;28;01melse\u001b[39;00m convertTaskCustom\n\u001b[0;32m    836\u001b[0m )(\u001b[38;5;28mself\u001b[39m)\n",
      "File \u001b[1;32m~\\TF.Convert.XML_BackEnd\\sergpanf\\LXX-Link\\lowfat_sergpanf_2025_02_06.py:248\u001b[0m, in \u001b[0;36mconvertTaskCustom\u001b[1;34m(self)\u001b[0m\n\u001b[0;32m    244\u001b[0m initTree(tfPath, fresh\u001b[38;5;241m=\u001b[39m\u001b[38;5;28;01mTrue\u001b[39;00m, gentle\u001b[38;5;241m=\u001b[39m\u001b[38;5;28;01mTrue\u001b[39;00m)\n\u001b[0;32m    246\u001b[0m cv \u001b[38;5;241m=\u001b[39m \u001b[38;5;28mself\u001b[39m\u001b[38;5;241m.\u001b[39mgetConverter()\n\u001b[1;32m--> 248\u001b[0m \u001b[38;5;28mself\u001b[39m\u001b[38;5;241m.\u001b[39mgood \u001b[38;5;241m=\u001b[39m cv\u001b[38;5;241m.\u001b[39mwalk(\n\u001b[0;32m    249\u001b[0m     getDirector(\u001b[38;5;28mself\u001b[39m),\n\u001b[0;32m    250\u001b[0m     slotType,\n\u001b[0;32m    251\u001b[0m     otext\u001b[38;5;241m=\u001b[39motext,\n\u001b[0;32m    252\u001b[0m     generic\u001b[38;5;241m=\u001b[39mgeneric,\n\u001b[0;32m    253\u001b[0m     intFeatures\u001b[38;5;241m=\u001b[39mintFeatures,\n\u001b[0;32m    254\u001b[0m     featureMeta\u001b[38;5;241m=\u001b[39mfeatureMeta,\n\u001b[0;32m    255\u001b[0m     generateTf\u001b[38;5;241m=\u001b[39m\u001b[38;5;28;01mTrue\u001b[39;00m,\n\u001b[0;32m    256\u001b[0m )\n",
      "File \u001b[1;32mC:\\Users\\SergPanf\\AppData\\Roaming\\Python\\Python312\\site-packages\\tf\\convert\\walker.py:389\u001b[0m, in \u001b[0;36mCV.walk\u001b[1;34m(self, director, slotType, otext, generic, intFeatures, featureMeta, warn, generateTf, force)\u001b[0m\n\u001b[0;32m    386\u001b[0m \u001b[38;5;28mself\u001b[39m\u001b[38;5;241m.\u001b[39m_prepareMeta(otext, generic)\n\u001b[0;32m    388\u001b[0m indent(level\u001b[38;5;241m=\u001b[39m\u001b[38;5;241m1\u001b[39m, reset\u001b[38;5;241m=\u001b[39m\u001b[38;5;28;01mTrue\u001b[39;00m)\n\u001b[1;32m--> 389\u001b[0m \u001b[38;5;28mself\u001b[39m\u001b[38;5;241m.\u001b[39m_follow(director)\n\u001b[0;32m    391\u001b[0m indent(level\u001b[38;5;241m=\u001b[39m\u001b[38;5;241m1\u001b[39m, reset\u001b[38;5;241m=\u001b[39m\u001b[38;5;28;01mTrue\u001b[39;00m)\n\u001b[0;32m    392\u001b[0m \u001b[38;5;28mself\u001b[39m\u001b[38;5;241m.\u001b[39m_removeUnlinked()\n",
      "File \u001b[1;32mC:\\Users\\SergPanf\\AppData\\Roaming\\Python\\Python312\\site-packages\\tf\\convert\\walker.py:1331\u001b[0m, in \u001b[0;36mCV._follow\u001b[1;34m(self, director)\u001b[0m\n\u001b[0;32m   1324\u001b[0m curEmbedders \u001b[38;5;241m=\u001b[39m \u001b[38;5;28mself\u001b[39m\u001b[38;5;241m.\u001b[39mcurEmbedders\n\u001b[0;32m   1326\u001b[0m \u001b[38;5;28mself\u001b[39m\u001b[38;5;241m.\u001b[39mstats \u001b[38;5;241m=\u001b[39m {\n\u001b[0;32m   1327\u001b[0m     actionType: \u001b[38;5;241m0\u001b[39m\n\u001b[0;32m   1328\u001b[0m     \u001b[38;5;28;01mfor\u001b[39;00m actionType \u001b[38;5;129;01min\u001b[39;00m (\u001b[38;5;28mself\u001b[39m\u001b[38;5;241m.\u001b[39mS, \u001b[38;5;28mself\u001b[39m\u001b[38;5;241m.\u001b[39mN, \u001b[38;5;28mself\u001b[39m\u001b[38;5;241m.\u001b[39mT, \u001b[38;5;28mself\u001b[39m\u001b[38;5;241m.\u001b[39mR, \u001b[38;5;28mself\u001b[39m\u001b[38;5;241m.\u001b[39mD, \u001b[38;5;28mself\u001b[39m\u001b[38;5;241m.\u001b[39mF, \u001b[38;5;28mself\u001b[39m\u001b[38;5;241m.\u001b[39mE)\n\u001b[0;32m   1329\u001b[0m }\n\u001b[1;32m-> 1331\u001b[0m director(\u001b[38;5;28mself\u001b[39m)\n\u001b[0;32m   1333\u001b[0m \u001b[38;5;28;01mif\u001b[39;00m \u001b[38;5;129;01mnot\u001b[39;00m \u001b[38;5;28mself\u001b[39m\u001b[38;5;241m.\u001b[39mstats:\n\u001b[0;32m   1334\u001b[0m     \u001b[38;5;28mself\u001b[39m\u001b[38;5;241m.\u001b[39mgood \u001b[38;5;241m=\u001b[39m \u001b[38;5;28;01mFalse\u001b[39;00m\n",
      "File \u001b[1;32m~\\TF.Convert.XML_BackEnd\\sergpanf\\LXX-Link\\lowfat_sergpanf_2025_02_06.py:1168\u001b[0m, in \u001b[0;36mgetDirector.<locals>.director\u001b[1;34m(cv)\u001b[0m\n\u001b[0;32m   1166\u001b[0m     cur[\u001b[38;5;124m\"\u001b[39m\u001b[38;5;124msuperParentNode\u001b[39m\u001b[38;5;124m\"\u001b[39m] \u001b[38;5;241m=\u001b[39m [] \u001b[38;5;66;03m#define dictionary that carries all the previous superNodes\u001b[39;00m\n\u001b[0;32m   1167\u001b[0m     cur[\u001b[38;5;124m'\u001b[39m\u001b[38;5;124msuperSib\u001b[39m\u001b[38;5;124m'\u001b[39m] \u001b[38;5;241m=\u001b[39m [] \u001b[38;5;66;03m#define dictionary that carries all the siblings with superNodes\u001b[39;00m\n\u001b[1;32m-> 1168\u001b[0m     walkNode(cv, cur, root)\n\u001b[0;32m   1170\u001b[0m xIdIndex \u001b[38;5;241m=\u001b[39m cur[\u001b[38;5;124m\"\u001b[39m\u001b[38;5;124mxIdIndex\u001b[39m\u001b[38;5;124m\"\u001b[39m]\n\u001b[0;32m   1171\u001b[0m noXId \u001b[38;5;241m=\u001b[39m \u001b[38;5;124m\"\u001b[39m\u001b[38;5;124mn00000000000\u001b[39m\u001b[38;5;124m\"\u001b[39m\n",
      "File \u001b[1;32m~\\TF.Convert.XML_BackEnd\\sergpanf\\LXX-Link\\lowfat_sergpanf_2025_02_06.py:421\u001b[0m, in \u001b[0;36mgetDirector.<locals>.walkNode\u001b[1;34m(cv, cur, xnode)\u001b[0m\n\u001b[0;32m    418\u001b[0m     cur[TSIB]\u001b[38;5;241m.\u001b[39mappend([])\n\u001b[0;32m    420\u001b[0m \u001b[38;5;28;01mfor\u001b[39;00m child \u001b[38;5;129;01min\u001b[39;00m xnode\u001b[38;5;241m.\u001b[39miterchildren(tag\u001b[38;5;241m=\u001b[39metree\u001b[38;5;241m.\u001b[39mElement):\n\u001b[1;32m--> 421\u001b[0m     walkNode(cv, cur, child)\n\u001b[0;32m    423\u001b[0m afterChildren(cv, cur, xnode, tag)\n\u001b[0;32m    425\u001b[0m \u001b[38;5;28;01mif\u001b[39;00m extraNode \u001b[38;5;129;01mis\u001b[39;00m \u001b[38;5;129;01mnot\u001b[39;00m \u001b[38;5;28;01mNone\u001b[39;00m:\n",
      "File \u001b[1;32m~\\TF.Convert.XML_BackEnd\\sergpanf\\LXX-Link\\lowfat_sergpanf_2025_02_06.py:421\u001b[0m, in \u001b[0;36mgetDirector.<locals>.walkNode\u001b[1;34m(cv, cur, xnode)\u001b[0m\n\u001b[0;32m    418\u001b[0m     cur[TSIB]\u001b[38;5;241m.\u001b[39mappend([])\n\u001b[0;32m    420\u001b[0m \u001b[38;5;28;01mfor\u001b[39;00m child \u001b[38;5;129;01min\u001b[39;00m xnode\u001b[38;5;241m.\u001b[39miterchildren(tag\u001b[38;5;241m=\u001b[39metree\u001b[38;5;241m.\u001b[39mElement):\n\u001b[1;32m--> 421\u001b[0m     walkNode(cv, cur, child)\n\u001b[0;32m    423\u001b[0m afterChildren(cv, cur, xnode, tag)\n\u001b[0;32m    425\u001b[0m \u001b[38;5;28;01mif\u001b[39;00m extraNode \u001b[38;5;129;01mis\u001b[39;00m \u001b[38;5;129;01mnot\u001b[39;00m \u001b[38;5;28;01mNone\u001b[39;00m:\n",
      "    \u001b[1;31m[... skipping similar frames: getDirector.<locals>.walkNode at line 421 (1 times)]\u001b[0m\n",
      "File \u001b[1;32m~\\TF.Convert.XML_BackEnd\\sergpanf\\LXX-Link\\lowfat_sergpanf_2025_02_06.py:421\u001b[0m, in \u001b[0;36mgetDirector.<locals>.walkNode\u001b[1;34m(cv, cur, xnode)\u001b[0m\n\u001b[0;32m    418\u001b[0m     cur[TSIB]\u001b[38;5;241m.\u001b[39mappend([])\n\u001b[0;32m    420\u001b[0m \u001b[38;5;28;01mfor\u001b[39;00m child \u001b[38;5;129;01min\u001b[39;00m xnode\u001b[38;5;241m.\u001b[39miterchildren(tag\u001b[38;5;241m=\u001b[39metree\u001b[38;5;241m.\u001b[39mElement):\n\u001b[1;32m--> 421\u001b[0m     walkNode(cv, cur, child)\n\u001b[0;32m    423\u001b[0m afterChildren(cv, cur, xnode, tag)\n\u001b[0;32m    425\u001b[0m \u001b[38;5;28;01mif\u001b[39;00m extraNode \u001b[38;5;129;01mis\u001b[39;00m \u001b[38;5;129;01mnot\u001b[39;00m \u001b[38;5;28;01mNone\u001b[39;00m:\n",
      "File \u001b[1;32m~\\TF.Convert.XML_BackEnd\\sergpanf\\LXX-Link\\lowfat_sergpanf_2025_02_06.py:331\u001b[0m, in \u001b[0;36mgetDirector.<locals>.walkNode\u001b[1;34m(cv, cur, xnode)\u001b[0m\n\u001b[0;32m    327\u001b[0m nestable \u001b[38;5;241m=\u001b[39m tag \u001b[38;5;129;01min\u001b[39;00m {\u001b[38;5;124m\"\u001b[39m\u001b[38;5;124mword\u001b[39m\u001b[38;5;124m\"\u001b[39m, \u001b[38;5;124m\"\u001b[39m\u001b[38;5;124mwg\u001b[39m\u001b[38;5;124m\"\u001b[39m}\n\u001b[0;32m    329\u001b[0m cur[XNEST]\u001b[38;5;241m.\u001b[39mappend(tag)\n\u001b[1;32m--> 331\u001b[0m (curNode, extraNode) \u001b[38;5;241m=\u001b[39m beforeChildren(cv, cur, xnode, tag)\n\u001b[0;32m    333\u001b[0m \u001b[38;5;28;01mif\u001b[39;00m curNode \u001b[38;5;129;01mis\u001b[39;00m \u001b[38;5;129;01mnot\u001b[39;00m \u001b[38;5;28;01mNone\u001b[39;00m:\n\u001b[0;32m    334\u001b[0m     \u001b[38;5;28;01mif\u001b[39;00m extraNode \u001b[38;5;129;01mis\u001b[39;00m \u001b[38;5;129;01mnot\u001b[39;00m \u001b[38;5;28;01mNone\u001b[39;00m:\n",
      "File \u001b[1;32m~\\TF.Convert.XML_BackEnd\\sergpanf\\LXX-Link\\lowfat_sergpanf_2025_02_06.py:504\u001b[0m, in \u001b[0;36mgetDirector.<locals>.beforeChildren\u001b[1;34m(cv, cur, xnode, tag)\u001b[0m\n\u001b[0;32m    501\u001b[0m \u001b[38;5;66;03m#ipdb.set_trace()\t\u001b[39;00m\n\u001b[0;32m    502\u001b[0m \u001b[38;5;66;03m#sergpanff\u001b[39;00m\n\u001b[0;32m    503\u001b[0m \u001b[38;5;28mprint\u001b[39m (\u001b[38;5;124m'\u001b[39m\u001b[38;5;130;01m\\n\u001b[39;00m\u001b[38;5;124m'\u001b[39m)\n\u001b[1;32m--> 504\u001b[0m \u001b[38;5;28mprint\u001b[39m (\u001b[38;5;124m'\u001b[39m\u001b[38;5;124mafter = \u001b[39m\u001b[38;5;124m'\u001b[39m \u001b[38;5;241m+\u001b[39m after)\n\u001b[0;32m    506\u001b[0m \u001b[38;5;66;03m#Definition of punctuation feature\u001b[39;00m\n\u001b[0;32m    507\u001b[0m punctuation_matches \u001b[38;5;241m=\u001b[39m re\u001b[38;5;241m.\u001b[39mfindall(punctuation_signs, after)\n",
      "\u001b[1;31mTypeError\u001b[0m: can only concatenate str (not \"NoneType\") to str"
     ]
    }
   ],
   "source": [
    "X.task(convert=True)"
   ]
  },
  {
   "cell_type": "code",
   "execution_count": null,
   "id": "8c18fd0e-f165-4902-93b6-c5ba8e549829",
   "metadata": {},
   "outputs": [],
   "source": []
  },
  {
   "cell_type": "code",
   "execution_count": null,
   "id": "c3be6cd4-29c0-4eed-94a2-2789e2094260",
   "metadata": {},
   "outputs": [],
   "source": []
  },
  {
   "cell_type": "code",
   "execution_count": null,
   "id": "2e084f37-2da5-46f1-9594-0102e7a30198",
   "metadata": {},
   "outputs": [],
   "source": []
  },
  {
   "cell_type": "code",
   "execution_count": null,
   "id": "ececd7c9",
   "metadata": {
    "scrolled": true,
    "tags": []
   },
   "outputs": [],
   "source": [
    "X.task(convert=True)\n",
    "X.task(load=True)\n",
    "X.task(app=True)"
   ]
  },
  {
   "cell_type": "code",
   "execution_count": null,
   "id": "c93c5bd0",
   "metadata": {
    "scrolled": true,
    "tags": []
   },
   "outputs": [],
   "source": [
    "# [] conversion first\n",
    "# [] the above code\n",
    "\n",
    "# [] uploading to GitHub saulocantanhede/tfgreek2  (just a folder following the standard of the subfolders: 1) organization (sergeypanfilov), 2) repository name (project name), 3) \"tf\"\n",
    "\n",
    "# [] READING\n",
    "\n",
    "# [] run \n",
    "#A = use(\"saulocantanhede/tfgreek2\", version=\"0.1.1\", hoist=globals())\n",
    "\n",
    "# [] alternatively, avoid uploading to github; instead, use this appraoch. keep all the tf-s in the local app subfolder\n",
    "#N1904 = use(\"app:~/Downloads/XML-nestle1904/programs/app\", locations=\"/Users/saulo/Downloads/XML-nestle1904/programs/tf\", version=\"1.0.0\", hoist=globals())\n",
    "\n",
    "# [] forget those lines\n",
    "#B = use(\"app:~/Downloads/XML-nestle1904/programs/app\", locations=\"/Users/saulo/Downloads/XML-nestle1904/programs/tf\", version=\"0.5.8\", hoist=globals())\n",
    "#B = use(\"app:~/Downloads/XML-nestle1904/programs/app\", version=\"0.5.7\", hoist=globals())\n",
    "#N1904 = use(\"saulocantanhede/tfgreek2\", version=\"0.5.7\", mod=\"saulocantanhede/tfgreek2/BOLcomplement/tf\", hoist=globals())\n",
    "#N1904 = use(\"saulocantanhede/tfgreek2:clone\", version=\"0.5.9\", checkout=\"clone\", mod=\"saulocantanhede/tfgreek2/BOLcomplement/tf:clone\", hoist=globals())\n",
    "\n",
    "# [] for testing purposes. \n",
    "N1904 = use(\"CenterBLC/N1904:clone\", version=\"1.0.0\", checkout=\"clone\", mod=\"CenterBLC/N1904/BOLcomplement/tf:clone\", hoist=globals())"
   ]
  },
  {
   "cell_type": "code",
   "execution_count": null,
   "id": "fcb8cbb6-51c2-467a-b8ae-42d7cc4e1622",
   "metadata": {},
   "outputs": [],
   "source": [
    "results = A.search(\"\"\"\n",
    "w lemma=δέ\n",
    "\"\"\")\n",
    "A.show(results, end=2, condensed=True, multiFeatures=False, queryFeatures=False, withNodes=False)"
   ]
  },
  {
   "cell_type": "code",
   "execution_count": null,
   "id": "240478e6-b348-4e41-81d5-f88f4fa0a83c",
   "metadata": {},
   "outputs": [],
   "source": [
    "N1904.viewtype(\"wg\")\n",
    "results = N1904.search(\"\"\"\n",
    "verse book=Mark chapter=1 verse=1\n",
    "\"\"\")\n",
    "N1904.show(results, end=2, condensed=True, multiFeatures=False, queryFeatures=False, withNodes=False, colorMap=color, condenseType='verse')"
   ]
  },
  {
   "cell_type": "code",
   "execution_count": null,
   "id": "9d92a745-0a2e-4603-bbc9-bffa4b083be8",
   "metadata": {},
   "outputs": [],
   "source": [
    "for formats in T.formats:\n",
    "    print(f'fmt={formats}\\t: {T.text(383782,formats)}')"
   ]
  },
  {
   "cell_type": "markdown",
   "id": "f2d1f5ad-f430-42e9-ba33-1286993f1f51",
   "metadata": {
    "tags": []
   },
   "source": [
    "### Generating release to GitHub"
   ]
  },
  {
   "cell_type": "code",
   "execution_count": null,
   "id": "01a1d9cf-dcbc-4aa9-a8cd-ceafdc942248",
   "metadata": {},
   "outputs": [],
   "source": [
    "#N1904 = use(\"saulocantanhede/tfgreek2:clone\", version=\"0.5.9\", checkout=\"clone\", mod=\"saulocantanhede/tfgreek2/BOLcomplement/tf:clone\", hoist=globals())\n",
    "N1904 = use(\"CenterBLC/N1904:clone\", version=\"1.0.0\", checkout=\"clone\", mod=\"CenterBLC/N1904/BOLcomplement/tf:clone\", hoist=globals())"
   ]
  },
  {
   "cell_type": "code",
   "execution_count": null,
   "id": "517d3eaa-fe20-4afd-bd6f-984932d59fc2",
   "metadata": {},
   "outputs": [],
   "source": [
    "N1904.zipAll()"
   ]
  },
  {
   "cell_type": "code",
   "execution_count": null,
   "id": "c1ca060f-f7a3-4851-8476-1f7e83532e9e",
   "metadata": {},
   "outputs": [],
   "source": [
    "from tf.advanced.helpers import dm\n",
    "from tf.advanced.repo import checkoutRepo"
   ]
  },
  {
   "cell_type": "code",
   "execution_count": null,
   "id": "1b3831f2-aec4-44c1-95cb-4506dbe14d27",
   "metadata": {},
   "outputs": [],
   "source": [
    "def do(task):\n",
    "    md = f\"\"\"\n",
    "commit | release | local | base | subdir\n",
    "--- | --- | --- | --- | ---\n",
    "`{task[0]}` | `{task[1]}` | `{task[2]}` | `{task[3]}` | `{task[4]}`\n",
    "\"\"\"\n",
    "    dm(md)"
   ]
  },
  {
   "cell_type": "code",
   "execution_count": null,
   "id": "bf7cf4d0-7cdf-4ee2-b53c-ebbfbc90758f",
   "metadata": {},
   "outputs": [],
   "source": [
    "do(checkoutRepo(backend='github', org='saulocantanhede', repo='tfgreek2', folder='tf', version='0.5.9'))"
   ]
  },
  {
   "cell_type": "markdown",
   "id": "a61aeaea-e4e8-4998-92ae-a09d8edef6a1",
   "metadata": {
    "jp-MarkdownHeadingCollapsed": true,
    "tags": []
   },
   "source": [
    "## Understanding discontinuous words"
   ]
  },
  {
   "cell_type": "code",
   "execution_count": null,
   "id": "4e8f09d5-295d-4f04-ad3b-a751947e9a68",
   "metadata": {},
   "outputs": [],
   "source": [
    "import pandas as pd\n",
    "\n",
    "search='''\n",
    "word discontinuous=1\n",
    "'''\n",
    "results=A.search(search)\n",
    "\n",
    "freq = {}\n",
    "punctuation_signs = r\"[ ,.;·]\"\n",
    "\n",
    "for words in results:\n",
    "    word = T.text(words[0],fmt='lex-orig-full')\n",
    "    if word[-1] in punctuation_signs:\n",
    "        word = word[:-1]\n",
    "    freq[word] = freq.get(word, 0) + 1\n",
    "\n",
    "table_freq = pd.DataFrame(list(freq.items()), columns=['Word', 'Frequency'])\n",
    "\n",
    "table_freq = table_freq.sort_values(by='Frequency', ascending=False)\n",
    "\n",
    "#pd.set_option('display.max_rows', None)\n",
    "\n",
    "print(table_freq)\n",
    "\n",
    "#table_freq.to_csv('table_freq_discontinuous.csv', index=False)"
   ]
  },
  {
   "cell_type": "code",
   "execution_count": null,
   "id": "62496f1e-55d1-4936-86cf-5a09f4c230a0",
   "metadata": {},
   "outputs": [],
   "source": [
    "results = A.search(\"\"\"\n",
    "word lemma* discontinuous=1 cls*\n",
    "\"\"\")\n",
    "\n",
    "A.export(results, toDir='~/Downloads/XML-nestle1904/programs', toFile='table_discontinuous.tsv')\n",
    "\n",
    "data=pd.read_csv('~/Downloads/XML-nestle1904/programs/table_discontinuous.tsv',delimiter='\\t',encoding='utf-16')\n",
    "\n",
    "newdata=data[['lemma1','cls1']]\n",
    "\n",
    "final = newdata.sort_values(by='lemma1', ascending=[True])\n",
    "table_freq = final.groupby(['lemma1', 'cls1']).size().reset_index(name='Frequency').sort_values(by='Frequency', ascending=[False])\n",
    "\n",
    "print(table_freq.to_string(index=False))\n",
    "\n",
    "#table_freq.to_csv('table_discontinuous_final.csv', index=False)"
   ]
  },
  {
   "cell_type": "markdown",
   "id": "e6b5d30e-76ac-41cb-8c8e-71c5e531bac1",
   "metadata": {
    "jp-MarkdownHeadingCollapsed": true,
    "tags": []
   },
   "source": [
    "## Text with lexemme"
   ]
  },
  {
   "cell_type": "code",
   "execution_count": null,
   "id": "ff98b99a-8eab-40b0-8bba-8d1fb29a0136",
   "metadata": {},
   "outputs": [],
   "source": [
    "results = A.search(\"\"\"\n",
    "wg rule=NPofNP\n",
    "\"\"\")\n",
    "A.show(results, end=1, multiFeatures=False, queryFeatures=False,\n",
    "       colorMap=color, hiddenTypes={\"subphrase\", \"phrase\", \"clause\", \"sentence\", \"group\"})"
   ]
  },
  {
   "cell_type": "code",
   "execution_count": null,
   "id": "ddd305c6-1000-4cd5-8e07-2a53721cac1b",
   "metadata": {},
   "outputs": [],
   "source": [
    "results = A.search(\"\"\"\n",
    "verse book=Mark chapter=1 verse=1\n",
    "\"\"\")\n",
    "print('Normal text')\n",
    "A.show(results, end=1, multiFeatures=False, queryFeatures=False,\n",
    "       colorMap=color, hiddenTypes={\"wg\"}, fmt='text-orig-full')\n",
    "print('\\nLexeme text')\n",
    "A.show(results, end=1, multiFeatures=False, queryFeatures=False,\n",
    "       colorMap=color, hiddenTypes={\"wg\"}, fmt='lex-orig-full')"
   ]
  },
  {
   "cell_type": "code",
   "execution_count": null,
   "id": "7d4fe505-000d-4a76-9d42-a89eb8d9fbda",
   "metadata": {},
   "outputs": [],
   "source": [
    "results = A.search(\"\"\"\n",
    "verse book=John chapter=1 verse=6\n",
    "    c1:clause\n",
    "    c2:clause\n",
    "\n",
    "c1 -sibling> c2\n",
    "\"\"\")\n",
    "A.show(results, end=1, multiFeatures=False, queryFeatures=True, withNodes=True,\n",
    "       colorMap=color, hiddenTypes={\"wg\"})"
   ]
  },
  {
   "cell_type": "markdown",
   "id": "b20aacc9-b202-43c8-bc4a-8b3e5dca8cb3",
   "metadata": {
    "jp-MarkdownHeadingCollapsed": true,
    "tags": []
   },
   "source": [
    "## Jan 17 experiment"
   ]
  },
  {
   "cell_type": "code",
   "execution_count": null,
   "id": "b237f146-ddc0-4347-b21b-d7af37ea2ffb",
   "metadata": {},
   "outputs": [],
   "source": [
    "A.viewtype('syntax')"
   ]
  },
  {
   "cell_type": "code",
   "execution_count": null,
   "id": "b0101316-9083-4c12-878f-697607e58623",
   "metadata": {},
   "outputs": [],
   "source": [
    "results = A.search(\"\"\"\n",
    "clause rule=V-ADV-S\n",
    "\"\"\")\n",
    "A.show(results, end=1, colorMap=color, condenseType='clause')"
   ]
  },
  {
   "cell_type": "code",
   "execution_count": null,
   "id": "e3865b65-5395-401b-abbe-f7f5e6738ed3",
   "metadata": {},
   "outputs": [],
   "source": [
    "A.viewtype('syntax')"
   ]
  },
  {
   "cell_type": "code",
   "execution_count": null,
   "id": "9fdcc45d-3636-464a-8ce1-724bbfc8513d",
   "metadata": {},
   "outputs": [],
   "source": [
    "#syntax view\n",
    "results = A.search(\"\"\"\n",
    "verse book=Mark\n",
    "\"\"\")\n",
    "A.show(results, end=1, colorMap=color)"
   ]
  },
  {
   "cell_type": "code",
   "execution_count": null,
   "id": "d77bcbfc-9a7f-4134-9af6-f95b322ed1d6",
   "metadata": {},
   "outputs": [],
   "source": [
    "A.viewtype('wg')"
   ]
  },
  {
   "cell_type": "code",
   "execution_count": null,
   "id": "269c268b-6684-46ef-98fb-10d940efd855",
   "metadata": {},
   "outputs": [],
   "source": [
    "#wg view\n",
    "results = A.search(\"\"\"\n",
    "verse book=Mark\n",
    "\"\"\")\n",
    "A.show(results, end=1, colorMap=color)"
   ]
  },
  {
   "cell_type": "code",
   "execution_count": null,
   "id": "693c3d93-7b7c-4303-b313-c802d2924a63",
   "metadata": {},
   "outputs": [],
   "source": [
    "#syntax view old version\n",
    "results = B.search(\"\"\"\n",
    "verse book=Mark verse=1\n",
    "\"\"\")\n",
    "B.show(results, end=1, colorMap=color, hiddenTypes='wg',\n",
    "            condensed=True, multiFeatures=False, suppress={'book','chapter','verse'})"
   ]
  },
  {
   "cell_type": "code",
   "execution_count": null,
   "id": "6c9d9589-6bb1-49a2-a609-dcf860691e0d",
   "metadata": {},
   "outputs": [],
   "source": [
    "#syntax view\n",
    "results = NA1904.search(\"\"\"\n",
    "verse book=Mark verse=5\n",
    "\"\"\")\n",
    "NA1904.show(results, end=1, colorMap=color, hiddenTypes='phrase, subphrase, sentence, group, clause',\n",
    "            condensed=True, multiFeatures=False)"
   ]
  },
  {
   "cell_type": "code",
   "execution_count": null,
   "id": "c3eeeda9-0d29-41a0-bb88-b69dad076554",
   "metadata": {},
   "outputs": [],
   "source": [
    "#syntax view\n",
    "results = NA1904.search(\"\"\"\n",
    "verse book=Mark verse=5\n",
    "\"\"\")\n",
    "NA1904.show(results, end=1, colorMap=color, hiddenTypes='wg',\n",
    "            condensed=True, multiFeatures=False, suppress='book, verse')"
   ]
  },
  {
   "cell_type": "markdown",
   "id": "b8c3692c-65a7-4fba-95fb-ac94148b19f7",
   "metadata": {
    "jp-MarkdownHeadingCollapsed": true,
    "tags": []
   },
   "source": [
    "## Transliterated text"
   ]
  },
  {
   "cell_type": "code",
   "execution_count": null,
   "id": "df144fc5-9ac8-4156-9414-1d9d97955de5",
   "metadata": {},
   "outputs": [],
   "source": [
    "A.viewtype('syntax')"
   ]
  },
  {
   "cell_type": "code",
   "execution_count": null,
   "id": "5ca39eea-1a20-4150-86c4-14e059306ea5",
   "metadata": {},
   "outputs": [],
   "source": [
    "results = A.search(\"\"\"\n",
    "word unaccent* lextranslit* translit* book=Jude\n",
    "\"\"\")\n",
    "A.show(results, end=1, colorMap=color, condensed=True, multiFeatures=False, hiddenTypes={'wg'}, condenseType='subphrase')"
   ]
  },
  {
   "cell_type": "code",
   "execution_count": null,
   "id": "f74105ba-4f2c-4733-8a8e-b13e06e30d4d",
   "metadata": {},
   "outputs": [],
   "source": [
    "for formats in T.formats:\n",
    "    print(f'fmt={formats}\\t: {T.text(383782,formats)}')"
   ]
  },
  {
   "cell_type": "markdown",
   "id": "d4c3e9b3-bfdb-4738-b2f9-f5dd43100e55",
   "metadata": {
    "jp-MarkdownHeadingCollapsed": true,
    "tags": []
   },
   "source": [
    "## March 5 experiment"
   ]
  },
  {
   "cell_type": "code",
   "execution_count": null,
   "id": "e463ba98-4b74-4506-9f62-0e1528923064",
   "metadata": {},
   "outputs": [],
   "source": [
    "A.viewtype('wg')"
   ]
  },
  {
   "cell_type": "code",
   "execution_count": null,
   "id": "08bf1264-f9a7-4248-8a5f-eff465a754d8",
   "metadata": {},
   "outputs": [],
   "source": [
    "F.cls.freqList(nodeTypes='sentence')"
   ]
  },
  {
   "cell_type": "raw",
   "id": "3a95290e-b017-4043-91fd-5268d9a01553",
   "metadata": {},
   "source": [
    "results = A.search(\"\"\"\n",
    "phrase note=discontinuous\\ discourse\n",
    "\"\"\")\n",
    "A.show(results, end=1, colorMap=color, condenseType='sentence', hiddenTypes={'sentence', 'group', 'subphrase', 'clause'}, withNodes=True)"
   ]
  },
  {
   "cell_type": "code",
   "execution_count": null,
   "id": "b87fed29-e7c0-48ea-8e40-52e9118cb5e3",
   "metadata": {},
   "outputs": [],
   "source": [
    "results = A.search(\"\"\"\n",
    "verse book=Matthew chapter=6 verse=19\n",
    "    word role*\n",
    "\"\"\")\n",
    "A.show(results, end=1, colorMap=color, condenseType='sentence', hiddenTypes={'sentence', 'group', 'phrase', 'subphrase', 'clause'})"
   ]
  },
  {
   "cell_type": "code",
   "execution_count": null,
   "id": "834d5bad-d023-4ea5-9de3-a443c96b9f70",
   "metadata": {},
   "outputs": [],
   "source": [
    "results = A.search(\"\"\"\n",
    "verse book=Matthew chapter=6 verse=19\n",
    "    clause function*\n",
    "\"\"\")\n",
    "A.show(results, end=1, colorMap=color, condenseType='sentence', hiddenTypes={'wg', 'subphrase'})"
   ]
  },
  {
   "cell_type": "code",
   "execution_count": null,
   "id": "af606ba5-e4eb-432b-a55f-e9633700fae4",
   "metadata": {},
   "outputs": [],
   "source": [
    "results = B.search(\"\"\"\n",
    "verse book=Matthew chapter=6 verse=19\n",
    "    clause function*\n",
    "\"\"\")\n",
    "B.show(results, end=1, colorMap=color, condenseType='sentence', hiddenTypes={'wg', 'subphrase'})"
   ]
  },
  {
   "cell_type": "code",
   "execution_count": null,
   "id": "10b1de59-5380-41f2-89f7-b2dbba6abb57",
   "metadata": {},
   "outputs": [],
   "source": [
    "results = A.search(\"\"\"\n",
    "verse book=Matthew chapter=5 verse=6\n",
    "    wg role=v rule=Conj2VP\n",
    "\"\"\")\n",
    "A.show(results, end=1, colorMap=color, condenseType='sentence', hiddenTypes={'sentence', 'group', 'phrase', 'subphrase', 'clause'})"
   ]
  },
  {
   "cell_type": "code",
   "execution_count": null,
   "id": "a78a4b07-93e6-44d1-ba33-5d4bf94ff986",
   "metadata": {},
   "outputs": [],
   "source": [
    "results = A.search(\"\"\"\n",
    "verse book=Matthew chapter=5 verse=6\n",
    "    wg role=v rule=Conj2VP\n",
    "\"\"\")\n",
    "A.show(results, end=1, colorMap=color, condenseType='sentence', hiddenTypes={'wg', 'subphrase'})"
   ]
  },
  {
   "cell_type": "code",
   "execution_count": null,
   "id": "39717081-332a-4710-92e3-c0cb76af4c28",
   "metadata": {},
   "outputs": [],
   "source": [
    "results = B.search(\"\"\"\n",
    "verse book=Matthew chapter=5 verse=6\n",
    "    c:clause function*\n",
    "        w:word\n",
    "\n",
    "c <parent- w\n",
    "\"\"\")\n",
    "B.show(results, end=1, colorMap=color, condenseType='sentence', hiddenTypes={'wg', 'subphrase'})"
   ]
  },
  {
   "cell_type": "code",
   "execution_count": null,
   "id": "8a290477-95ad-41bb-8a14-bdadd1c89326",
   "metadata": {},
   "outputs": [],
   "source": [
    "results = B.search(\"\"\"\n",
    "verse\n",
    "    c:clause function=Pred\n",
    "        word\n",
    "\"\"\")\n",
    "B.show(results, end=1, colorMap=color, condenseType='sentence', hiddenTypes={'wg', 'subphrase'})"
   ]
  },
  {
   "cell_type": "code",
   "execution_count": null,
   "id": "5fde8800-0a7c-4fd5-8851-42c36ce0fa62",
   "metadata": {},
   "outputs": [],
   "source": [
    "results = B.search('''\n",
    "verse\n",
    "    word book_short=Matt chapter=1 verse=1\n",
    "''')\n",
    "B.show(results, start=1, end=1, condensed=True, colorMap={1: 'pink'}, multiFeatures=True)"
   ]
  },
  {
   "cell_type": "markdown",
   "id": "6c74ceea-3f31-4aa5-8f57-11c6c69ee911",
   "metadata": {
    "jp-MarkdownHeadingCollapsed": true,
    "tags": []
   },
   "source": [
    "## March 27 experiment"
   ]
  },
  {
   "cell_type": "code",
   "execution_count": null,
   "id": "a58473d6-2e6a-4028-a914-2ce806d71e35",
   "metadata": {},
   "outputs": [],
   "source": [
    "N1904.viewtype('syntax')"
   ]
  },
  {
   "cell_type": "code",
   "execution_count": null,
   "id": "d2884e0d-a844-469e-a937-6e3e85373ebe",
   "metadata": {},
   "outputs": [],
   "source": [
    "data = F.function.freqList('clause')\n",
    "\n",
    "for i in data:\n",
    "    if i[0] == 'Pred':\n",
    "        print(i)\n",
    "    if i[0] == 'PreC':\n",
    "        print(i)"
   ]
  },
  {
   "cell_type": "code",
   "execution_count": null,
   "id": "75e4156d-ab1e-408e-8bcf-51f3e66d740a",
   "metadata": {},
   "outputs": [],
   "source": [
    "data = F.rule.freqList('clause')\n",
    "\n",
    "for i in data:\n",
    "    if \"Conj\" in i[0]:\n",
    "        print(i)"
   ]
  },
  {
   "cell_type": "code",
   "execution_count": null,
   "id": "c70de3fb-2837-4868-aedd-2bd099ebcdd1",
   "metadata": {},
   "outputs": [],
   "source": [
    "results = N1904.search(\"\"\"\n",
    "wg rule=Conj2VP role=v\n",
    "    clause function=PreC\n",
    "        word mood=participle|infinitive\n",
    "\"\"\")\n",
    "#N1904.show(results, end=3, colorMap=color, condensed=True, multiFeatures=False, withNodes=True, condenseType='wg')\n",
    "#N1904.show(results, end=3, colorMap=color, condensed=True, multiFeatures=False, withNodes=True, condenseType='clause')\n",
    "N1904.table(results, end=3, colorMap=color, condensed=True)"
   ]
  },
  {
   "cell_type": "code",
   "execution_count": null,
   "id": "088834f2-3f65-4460-a317-8379f812286c",
   "metadata": {},
   "outputs": [],
   "source": [
    "results = N1904.search(\"\"\"\n",
    "wg rule=Conj2VP role=v\n",
    "    clause function=Pred\n",
    "        word mood=indicative|subjunctive|imperative|optative\n",
    "\"\"\")\n",
    "#N1904.show(results, end=3, colorMap=color, condensed=True, multiFeatures=False, withNodes=True, condenseType='wg')\n",
    "#N1904.show(results, end=3, colorMap=color, condensed=True, multiFeatures=False, withNodes=True, condenseType='clause')\n",
    "N1904.table(results, end=3, colorMap=color, condensed=True)"
   ]
  },
  {
   "cell_type": "code",
   "execution_count": null,
   "id": "28ef79b8-7ec8-4d83-9eea-966c0837a678",
   "metadata": {},
   "outputs": [],
   "source": [
    "results = N1904.search(\"\"\"\n",
    "wg rule=Conj2VP role=v\n",
    "    word book=Matthew chapter=5 verse=6 function*\n",
    "\"\"\")\n",
    "N1904.show(results, end=1, colorMap=color, condensed=True, multiFeatures=False, withNodes=True, condenseType='wg')\n",
    "N1904.show(results, end=1, colorMap=color, condensed=True, multiFeatures=False, withNodes=True, condenseType='clause', hiddenTypes='wg')\n",
    "#N1904.table(results, end=5, colorMap=color, condensed=True)"
   ]
  },
  {
   "cell_type": "markdown",
   "id": "b2a14a1d-ccc6-412a-b94f-451a2af4f714",
   "metadata": {
    "jp-MarkdownHeadingCollapsed": true,
    "tags": []
   },
   "source": [
    "### Discontinuos discourse"
   ]
  },
  {
   "cell_type": "code",
   "execution_count": null,
   "id": "49859824-9409-45b3-aa20-dbdf733909fe",
   "metadata": {},
   "outputs": [],
   "source": [
    "F.note.freqList('word')"
   ]
  },
  {
   "cell_type": "code",
   "execution_count": null,
   "id": "ac1bdaa3-9cd5-4a3f-bc0e-3550ed63d815",
   "metadata": {},
   "outputs": [],
   "source": [
    "N1904.viewtype('wg')\n",
    "results = N1904.search(\"\"\"\n",
    "word note=discontinuous\\ discourse\n",
    "\"\"\")\n",
    "N1904.show(results, end=2, colorMap=color, condensed=True, multiFeatures=False, withNodes=False, condenseType='wg')"
   ]
  },
  {
   "cell_type": "markdown",
   "id": "79028c4d-bdba-4d0b-8c39-1ec8f22af637",
   "metadata": {
    "jp-MarkdownHeadingCollapsed": true,
    "tags": []
   },
   "source": [
    "### Past experiment"
   ]
  },
  {
   "cell_type": "code",
   "execution_count": null,
   "id": "9c79802e-6fdd-4c67-aa30-0876442b045f",
   "metadata": {},
   "outputs": [],
   "source": [
    "results = N1904.search(\"\"\"\n",
    "wg\n",
    "    word book=Revelation chapter=22 verse=21\n",
    "\"\"\")\n",
    "N1904.show(results, end=1, colorMap=color, condensed=True, multiFeatures=True, withNodes=True, condenseType='wg')"
   ]
  },
  {
   "cell_type": "code",
   "execution_count": null,
   "id": "f22b9493-0415-45a9-b8ec-cdf725d4fca1",
   "metadata": {},
   "outputs": [],
   "source": [
    "#word\n",
    "dict = (1, 137779)\n",
    "for i in dict:\n",
    "    print(i, T.text(i,fmt='text-orig-full'))"
   ]
  },
  {
   "cell_type": "code",
   "execution_count": null,
   "id": "74864c8d-64ec-4809-83fb-6272023c7e40",
   "metadata": {},
   "outputs": [],
   "source": [
    "T.text(137780,fmt='text-orig-full')"
   ]
  },
  {
   "cell_type": "markdown",
   "id": "96583c28-692e-4a14-ab5a-6c1c6f4036a8",
   "metadata": {
    "jp-MarkdownHeadingCollapsed": true
   },
   "source": [
    "## June 25 experiment"
   ]
  },
  {
   "cell_type": "markdown",
   "id": "029c3bbb-3955-404a-8ccf-40a48ee6d537",
   "metadata": {},
   "source": [
    "Looking for sentences which extends for more than one verse"
   ]
  },
  {
   "cell_type": "code",
   "execution_count": null,
   "id": "11aaf8a1-7891-4f8b-b6d4-0c39b88a441f",
   "metadata": {},
   "outputs": [],
   "source": [
    "results = B.search(\"\"\"\n",
    "sentence num=1\n",
    "    verse verse>1\n",
    "\"\"\")\n",
    "B.table(results)"
   ]
  },
  {
   "cell_type": "code",
   "execution_count": null,
   "id": "35ea0b07-0b7e-4826-84f3-33d187e887b3",
   "metadata": {},
   "outputs": [],
   "source": [
    "results = A.search(\"\"\"\n",
    "sentence num=1\n",
    "    verse verse>1\n",
    "\"\"\")\n",
    "A.table(results)"
   ]
  },
  {
   "cell_type": "code",
   "execution_count": null,
   "id": "feefa04a-7f91-43ca-a3b2-108e14441722",
   "metadata": {},
   "outputs": [],
   "source": [
    "#N1904.viewtype(\"wg\")\n",
    "results = A.search(\"\"\"\n",
    "sentence num=1\n",
    "    verse verse>1\n",
    "\"\"\")\n",
    "A.show(results, end=1, colorMap=color, condensed=True, multiFeatures=False, queryFeatures=False, extraFeatures={'num','rule','crule'}, hiddenTypes='sentence, clause, phrase, subphrase,group', condenseType='verse')"
   ]
  },
  {
   "cell_type": "code",
   "execution_count": null,
   "id": "8c8ef77a-73a3-49a9-9b4a-d53374d1266a",
   "metadata": {},
   "outputs": [],
   "source": [
    "#N1904.viewtype(\"syntax\")\n",
    "results = A.search(\"\"\"\n",
    "sentence num=1\n",
    "    verse verse>1\n",
    "\"\"\")\n",
    "A.show(results, end=1, colorMap=color, condensed=True, queryFeatures=False, extraFeatures={'num','crule'}, hiddenTypes='wg,subphrase', condenseType='verse')"
   ]
  },
  {
   "cell_type": "markdown",
   "id": "339edb34-8c74-40e1-83d0-5577aa303975",
   "metadata": {
    "jp-MarkdownHeadingCollapsed": true
   },
   "source": [
    "### \"Broken\" sequence of `sentences`"
   ]
  },
  {
   "cell_type": "markdown",
   "id": "a4b797e8-7b56-4864-8fec-fe3d8ac788d4",
   "metadata": {},
   "source": [
    "Version `0.5.8`"
   ]
  },
  {
   "cell_type": "code",
   "execution_count": null,
   "id": "505a61b2-7227-4ecd-858d-7572b1200ea8",
   "metadata": {},
   "outputs": [],
   "source": [
    "previousBookName='dummy'\n",
    "foreLastSentenceNum=-1\n",
    "previousSentenceNum=0\n",
    "i=1\n",
    "for sentence in F.otype.s('sentence'):\n",
    "    firstNodeText=E.oslots.s(sentence)[0]\n",
    "    thisBookName=F.book.v(firstNodeText)\n",
    "    thisSentenceNum=F.num.v(sentence)\n",
    "    if thisBookName!=previousBookName:\n",
    "        previousBookName=thisBookName\n",
    "        previousSentenceNum=0\n",
    "        foreLastSentenceNum=-1\n",
    "    expectedSentenceNum=previousSentenceNum+1\n",
    "    if thisSentenceNum==expectedSentenceNum:\n",
    "        previousSentenceNum=thisSentenceNum\n",
    "        foreLastSentenceNum-thisSentenceNum-1\n",
    "    else:\n",
    "        if abs(thisSentenceNum - expectedSentenceNum) < 1:\n",
    "            print(abs(thisSentenceNum-expectedSentenceNum))\n",
    "        else:\n",
    "            bookNode=F.book.v(firstNodeText)\n",
    "            bookChapter=F.chapter.v(firstNodeText)\n",
    "            bookVerse=F.verse.v(firstNodeText)\n",
    "            if expectedSentenceNum != 1:\n",
    "                print(f'{i} - {bookNode} {bookChapter}: {bookVerse} - expected: {expectedSentenceNum} found: {thisSentenceNum}')\n",
    "        previousSentenceNum=foreLastSentenceNum+1\n",
    "        i=i+1"
   ]
  },
  {
   "cell_type": "markdown",
   "id": "15cb98fb-7c88-47a5-9c32-fa31ff123dee",
   "metadata": {},
   "source": [
    "Version `0.5.9`"
   ]
  },
  {
   "cell_type": "code",
   "execution_count": null,
   "id": "bac892cc-0c7a-488f-9d9c-3fd09f9de140",
   "metadata": {},
   "outputs": [],
   "source": [
    "previousBookName='dummy'\n",
    "foreLastSentenceNum=-1\n",
    "previousSentenceNum=0\n",
    "i=1\n",
    "for sentence in F.otype.s('sentence'):\n",
    "    firstNodeText=E.oslots.s(sentence)[0]\n",
    "    thisBookName=F.book.v(firstNodeText)\n",
    "    thisSentenceNum=F.num.v(sentence)\n",
    "    if thisBookName!=previousBookName:\n",
    "        previousBookName=thisBookName\n",
    "        previousSentenceNum=0\n",
    "        foreLastSentenceNum=-1\n",
    "    expectedSentenceNum=previousSentenceNum+1\n",
    "    if thisSentenceNum==expectedSentenceNum:\n",
    "        previousSentenceNum=thisSentenceNum\n",
    "        foreLastSentenceNum-thisSentenceNum-1\n",
    "    else:\n",
    "        if abs(thisSentenceNum - expectedSentenceNum) < 1:\n",
    "            print(abs(thisSentenceNum-expectedSentenceNum))\n",
    "        else:\n",
    "            bookNode=F.book.v(firstNodeText)\n",
    "            bookChapter=F.chapter.v(firstNodeText)\n",
    "            bookVerse=F.verse.v(firstNodeText)\n",
    "            if expectedSentenceNum != 1:\n",
    "                print(f'{i} - {bookNode} {bookChapter}: {bookVerse} - expected: {expectedSentenceNum} found: {thisSentenceNum}')\n",
    "        previousSentenceNum=foreLastSentenceNum+1\n",
    "        i=i+1"
   ]
  },
  {
   "cell_type": "code",
   "execution_count": null,
   "id": "99bb4a9c-e86e-413c-a9d2-7b4acbd97d21",
   "metadata": {},
   "outputs": [],
   "source": [
    "N1904.viewtype(\"syntax\")\n",
    "results = N1904.search(\"\"\"\n",
    "verse book=Mark chapter=5 verse=15\n",
    "    phrase num=2232\n",
    "\"\"\")\n",
    "N1904.show(results, end=1, colorMap=color, condensed=True, queryFeatures=False, extraFeatures='num', hiddenTypes='wg,clause,group,subphrase', condenseType='verse')"
   ]
  },
  {
   "cell_type": "code",
   "execution_count": null,
   "id": "bd928425-a136-458c-8308-7443582be230",
   "metadata": {},
   "outputs": [],
   "source": [
    "N1904.viewtype(\"wg\")\n",
    "results = N1904.search(\"\"\"\n",
    "verse book=Mark chapter=5 verse=15    \n",
    "    wg num=2232\n",
    "\"\"\")\n",
    "N1904.show(results, end=1, colorMap=color, condensed=True, multiFeatures=False, queryFeatures=False, extraFeatures='num', hiddenTypes='sentence, clause, phrase, subphrase,group', condenseType='verse')"
   ]
  },
  {
   "cell_type": "code",
   "execution_count": null,
   "id": "196ed19d-e4aa-418f-86a3-161a87db418a",
   "metadata": {},
   "outputs": [],
   "source": [
    "N1904.viewtype(\"syntax\")\n",
    "results = N1904.search(\"\"\"\n",
    "verse book=I_John chapter=5 verse=13\n",
    "    phrase num=1549\n",
    "        word\n",
    "\"\"\")\n",
    "N1904.show(results, end=1, colorMap=color, condensed=True, queryFeatures=False, extraFeatures='num', hiddenTypes='wg,subphrase', condenseType='verse')"
   ]
  },
  {
   "cell_type": "code",
   "execution_count": null,
   "id": "e8b75ade-80ba-44a2-88d9-bf179b1f5f62",
   "metadata": {},
   "outputs": [],
   "source": [
    "N1904.viewtype(\"wg\")\n",
    "results = N1904.search(\"\"\"\n",
    "verse book=I_John chapter=5 verse=13\n",
    "    wg num=1549\n",
    "\"\"\")\n",
    "N1904.show(results, end=1, colorMap=color, condensed=True, multiFeatures=False, queryFeatures=False, extraFeatures='num', hiddenTypes='sentence, clause, phrase, subphrase,group', condenseType='verse')"
   ]
  },
  {
   "cell_type": "markdown",
   "id": "7ca40a43-0ea8-4706-90b0-e614f0843d25",
   "metadata": {
    "jp-MarkdownHeadingCollapsed": true,
    "tags": []
   },
   "source": [
    "## Text experiment"
   ]
  },
  {
   "cell_type": "code",
   "execution_count": null,
   "id": "d55ad983-7edf-4b29-8fe2-ab5cdd2bbf1e",
   "metadata": {},
   "outputs": [],
   "source": [
    "AB.viewtype('wg')"
   ]
  },
  {
   "cell_type": "code",
   "execution_count": null,
   "id": "e3d4067f-acf8-4dd3-98ed-6f931e7c872c",
   "metadata": {},
   "outputs": [],
   "source": [
    "results = AB.search(\"\"\"\n",
    "word book=Matthew chapter=5 verse=6\n",
    "\"\"\")\n",
    "AB.show(results, end=1, colorMap=color, condensed=True, multiFeatures=False, withNodes=True)"
   ]
  },
  {
   "cell_type": "code",
   "execution_count": null,
   "id": "e18d4cdd-fd6c-47c9-863a-0f7b30a99ed8",
   "metadata": {},
   "outputs": [],
   "source": [
    "N1904.viewtype('syntax')"
   ]
  },
  {
   "cell_type": "code",
   "execution_count": null,
   "id": "1ad2f78d-eae7-4220-8daa-897916705f5d",
   "metadata": {},
   "outputs": [],
   "source": [
    "#wg view\n",
    "results = NA1904.search(\"\"\"\n",
    "verse book=Mark chapter=1 verse=1\n",
    "\"\"\")\n",
    "NA1904.show(results, end=5, colorMap=color,\n",
    "            hiddenTypes={'sentence', 'group', 'phrase', 'subphrase', 'clause'},\n",
    "            condensed=True, multiFeatures=False, suppress={'book','chapter','verse'})"
   ]
  },
  {
   "cell_type": "code",
   "execution_count": null,
   "id": "eef6943f-84de-4d3a-a8ed-2bbadf16bf8a",
   "metadata": {},
   "outputs": [],
   "source": [
    "NA1904.displayReset()"
   ]
  },
  {
   "cell_type": "code",
   "execution_count": null,
   "id": "320aa5fb-5a87-458d-be1c-4ae8042a08c3",
   "metadata": {},
   "outputs": [],
   "source": [
    "#syntax view\n",
    "results = NA1904.search(\"\"\"\n",
    "verse book=Mark chapter=1 verse=5\n",
    "\"\"\")\n",
    "NA1904.show(results, end=5, colorMap=color,\n",
    "            hiddenTypes={'wg'},\n",
    "            condensed=True, multiFeatures=False, suppress={'book','chapter','verse'})"
   ]
  },
  {
   "cell_type": "code",
   "execution_count": null,
   "id": "05c0ad51-468f-4a55-9f97-50ac06398411",
   "metadata": {},
   "outputs": [],
   "source": [
    "N1904.viewtype('syntax')"
   ]
  },
  {
   "cell_type": "code",
   "execution_count": null,
   "id": "eaee1dc2-9a1b-4efc-8c13-60d86066901c",
   "metadata": {},
   "outputs": [],
   "source": [
    "discontinuos = N1904.nodeFromSectionStr(\"Mark\")\n",
    "sentence = L.d(discontinuos, otype=\"sentence\")[0]\n",
    "N1904.pretty(sentence)"
   ]
  },
  {
   "cell_type": "code",
   "execution_count": null,
   "id": "f536e7a4-cb81-4455-8eca-b223e9e29488",
   "metadata": {},
   "outputs": [],
   "source": [
    "N1904.viewtype('syntax')"
   ]
  },
  {
   "cell_type": "code",
   "execution_count": null,
   "id": "219abc2e-d504-4788-a1dd-b496832d5ad9",
   "metadata": {},
   "outputs": [],
   "source": [
    "green = \"#81ee93\"\n",
    "yellow = \"#eaff47\"\n",
    "orange = \"#ffcb47\""
   ]
  },
  {
   "cell_type": "code",
   "execution_count": null,
   "id": "c0d056fb-6fd0-477c-b299-855a01f1220d",
   "metadata": {},
   "outputs": [],
   "source": [
    "book = N1904.nodeFromSectionStr(\"John\")\n",
    "sentence = L.d(book, otype=\"sentence\")[6]\n",
    "clause = L.d(sentence, otype=\"clause\")[2]\n",
    "parent = E.parent.f(clause)[0]\n",
    "sibling = E.sibling.b(clause)\n",
    "\n",
    "for (sib, dist) in sibling:\n",
    "    print(f\"\\ndistance from {F.otype.v(sib)} node#{sib} to {F.otype.v(clause)}-node #{clause} = {dist}\\n\")\n",
    "\n",
    "highlights = {sib[0]:green for sib in sibling}\n",
    "highlights[clause] = yellow\n",
    "N1904.pretty(parent, highlights=highlights, queryFeatures=False)"
   ]
  },
  {
   "cell_type": "code",
   "execution_count": null,
   "id": "8e3a725b-8a41-4329-be03-31a9a3e64a3e",
   "metadata": {},
   "outputs": [],
   "source": [
    "N1904.displaySetup(condenseType='verse')"
   ]
  },
  {
   "cell_type": "code",
   "execution_count": null,
   "id": "7d6da078-b8cf-4d07-be98-d48f1e7711cf",
   "metadata": {},
   "outputs": [],
   "source": [
    "results = N1904.search(\"\"\"\n",
    "verse book=John chapter=1 verse=3\n",
    "    sentence\n",
    "        word\n",
    "        -sibling>1> word\n",
    "\"\"\")\n",
    "N1904.show(results, end=1, queryFeatures=False, colorMap={2: yellow, 3: green, 4:orange}, condenseType='verse')"
   ]
  },
  {
   "cell_type": "code",
   "execution_count": null,
   "id": "e7610604-c79f-49b2-a2eb-f3beb70da932",
   "metadata": {},
   "outputs": [],
   "source": [
    "results = N1904.search(\"\"\"\n",
    "verse book=John chapter=1 verse=6\n",
    "    word\n",
    "    -frame> word framespec*\n",
    "\"\"\")\n",
    "N1904.show(results, end=1, colorMap={2: yellow, 3: green, 4:orange}, condenseType='verse', extraFeatures='id')"
   ]
  },
  {
   "cell_type": "code",
   "execution_count": null,
   "id": "248c59f4-a080-402a-b1c4-9d39931df8d3",
   "metadata": {},
   "outputs": [],
   "source": [
    "results = B.search(\"\"\"\n",
    "verse book=John chapter=1 verse=1\n",
    "\"\"\")\n",
    "B.show(results, end=1, multiFeatures=False, queryFeatures=False, hiddenTypes={\"wg\"}, colorMap=color)"
   ]
  },
  {
   "cell_type": "code",
   "execution_count": null,
   "id": "d15af70d-25be-4b54-bb0c-f2eff0938258",
   "metadata": {},
   "outputs": [],
   "source": [
    "NA1904.Viewtype('syntax')"
   ]
  },
  {
   "cell_type": "code",
   "execution_count": null,
   "id": "b474b964-9e3d-431e-b186-42f031fbc7a6",
   "metadata": {},
   "outputs": [],
   "source": [
    "discontinuos = NA1904.nodeFromSectionStr(\"Mark\")\n",
    "sentence = L.d(discontinuos, otype=\"sentence\")[0]\n",
    "NA1904.pretty(sentence, hiddenTypes='wg')"
   ]
  },
  {
   "cell_type": "code",
   "execution_count": null,
   "id": "342358fa-f070-4d66-af45-31d4951eb3a3",
   "metadata": {},
   "outputs": [],
   "source": [
    "NA1904.Viewtype('reset')"
   ]
  },
  {
   "cell_type": "code",
   "execution_count": null,
   "id": "71c8dc08-d3df-4f77-a7a0-d63b233cc86e",
   "metadata": {},
   "outputs": [],
   "source": [
    "OptionDict = ['hiddenTypes', 'extraFeatures', 'condensed', 'queryFeatures', 'suppress']\n",
    "NA1904.displayReset(*OptionDict)"
   ]
  },
  {
   "cell_type": "code",
   "execution_count": null,
   "id": "fa5ea3f3-3eb0-4a7e-830b-eca02ecb20fe",
   "metadata": {},
   "outputs": [],
   "source": [
    "discontinuos = NA1904.nodeFromSectionStr(\"Matthew\")\n",
    "sentence = L.d(discontinuos, otype=\"sentence\")[0]\n",
    "NA1904.pretty(sentence)"
   ]
  },
  {
   "cell_type": "code",
   "execution_count": null,
   "id": "5c61b3f0-7e8c-4b0e-88ff-65fca7451a1d",
   "metadata": {},
   "outputs": [],
   "source": [
    "results = A.search(\"\"\"\n",
    "verse book=Mark chapter=1 verse=1\n",
    "\"\"\")\n",
    "A.show(results, end=1, multiFeatures=False, queryFeatures=False, colorMap=color)"
   ]
  },
  {
   "cell_type": "code",
   "execution_count": null,
   "id": "afc1ef04-10c8-4421-958d-c44acc06acc1",
   "metadata": {},
   "outputs": [],
   "source": [
    "results = B.search(\"\"\"\n",
    "verse book=Mark chapter=1 verse=1\n",
    "\"\"\")\n",
    "B.show(results, end=1, multiFeatures=False, queryFeatures=False, colorMap=color)"
   ]
  },
  {
   "cell_type": "markdown",
   "id": "717185c4-f01c-43f3-8a22-ea0b0d765821",
   "metadata": {},
   "source": [
    "## July experiments"
   ]
  },
  {
   "cell_type": "markdown",
   "id": "cece4a6b-1a36-494b-ab61-69200743b2ef",
   "metadata": {},
   "source": [
    "Using old `sentence` classification"
   ]
  },
  {
   "cell_type": "code",
   "execution_count": null,
   "id": "7d0cd545-6c69-4155-bb31-b8f7d174d9e6",
   "metadata": {},
   "outputs": [],
   "source": [
    "results = N1904.search(\"\"\"\n",
    "word book=Mark verse=1 chapter=2\n",
    "\"\"\")\n",
    "N1904.show(results, end=1, condensed=True, multiFeatures=False, queryFeatures=False, withNodes=False, colorMap=color)"
   ]
  },
  {
   "cell_type": "markdown",
   "id": "5931838f-75dc-4ae8-ad1d-9977f01820b2",
   "metadata": {},
   "source": [
    "Using new `sentence` classification"
   ]
  },
  {
   "cell_type": "code",
   "execution_count": null,
   "id": "c739aec3-5a29-46f0-bc46-d49526f04e99",
   "metadata": {},
   "outputs": [],
   "source": [
    "results = N1904.search(\"\"\"\n",
    "word book=Mark verse=1 chapter=2\n",
    "\"\"\")\n",
    "N1904.show(results, end=1, condensed=True, multiFeatures=False, queryFeatures=False, withNodes=False, colorMap=color)"
   ]
  },
  {
   "cell_type": "code",
   "execution_count": null,
   "id": "282a975e-6920-4aad-b122-d6b95c72d2b2",
   "metadata": {},
   "outputs": [],
   "source": [
    "results = N1904.search(\"\"\"\n",
    "word book=Mark verse=1 chapter=1 lemma*\n",
    "\"\"\")\n",
    "N1904.show(results, end=1, condensed=True, multiFeatures=False, queryFeatures=True, withNodes=False, colorMap=color)"
   ]
  },
  {
   "cell_type": "code",
   "execution_count": null,
   "id": "58e7f5b7-0280-40e1-a299-11e79d2da867",
   "metadata": {},
   "outputs": [],
   "source": [
    "F.after.freqList()"
   ]
  },
  {
   "cell_type": "code",
   "execution_count": null,
   "id": "bc517f9e-1d1a-4479-8497-cb1f29fc4dcd",
   "metadata": {},
   "outputs": [],
   "source": [
    "F.before.freqList()"
   ]
  },
  {
   "cell_type": "code",
   "execution_count": null,
   "id": "5308ea21-4de7-4fe8-8d6e-2d4af16a57ce",
   "metadata": {},
   "outputs": [],
   "source": [
    "F.punctuation.freqList()"
   ]
  },
  {
   "cell_type": "code",
   "execution_count": null,
   "id": "b5038a76-db02-40cf-8276-21521c6c1719",
   "metadata": {},
   "outputs": [],
   "source": [
    "F.criticalsign.freqList()"
   ]
  },
  {
   "cell_type": "code",
   "execution_count": null,
   "id": "b3e6fbe8-7335-4664-96ec-8f6fd4597f25",
   "metadata": {},
   "outputs": [],
   "source": [
    "F.trailer.freqList()"
   ]
  },
  {
   "cell_type": "code",
   "execution_count": null,
   "id": "ba4100f8",
   "metadata": {},
   "outputs": [],
   "source": [
    "node = 428664\n",
    "E.parent.f(node)"
   ]
  },
  {
   "cell_type": "code",
   "execution_count": null,
   "id": "bb6557d3-c1e9-41a6-8c55-1ec489a4ee19",
   "metadata": {},
   "outputs": [],
   "source": [
    "T.text(184053,fmt='lex-orig-plain')"
   ]
  },
  {
   "cell_type": "code",
   "execution_count": null,
   "id": "4d6e8394-542a-41a2-9a2d-548dfface9e3",
   "metadata": {},
   "outputs": [],
   "source": [
    "T.text(184053,fmt='lex-translit-plain')"
   ]
  },
  {
   "cell_type": "code",
   "execution_count": null,
   "id": "5deed6d5-0bf7-4959-a412-090c482a907f",
   "metadata": {},
   "outputs": [],
   "source": [
    "T.text(184053,fmt='text-orig-full')"
   ]
  },
  {
   "cell_type": "code",
   "execution_count": null,
   "id": "971f2c19-b4f3-460e-9fa4-009be375151e",
   "metadata": {},
   "outputs": [],
   "source": [
    "T.text(184053,fmt='text-orig-plain')"
   ]
  },
  {
   "cell_type": "code",
   "execution_count": null,
   "id": "b7d89e6b-9fb0-4db6-9cb1-3da421e25aa8",
   "metadata": {},
   "outputs": [],
   "source": [
    "T.text(184053,fmt='text-translit-plain')"
   ]
  },
  {
   "cell_type": "code",
   "execution_count": null,
   "id": "a7b68e31-075b-4da9-bee4-098030a1aba6",
   "metadata": {},
   "outputs": [],
   "source": [
    "T.text(184053,fmt='text-unaccent-plain')"
   ]
  },
  {
   "cell_type": "code",
   "execution_count": null,
   "id": "c86bc272",
   "metadata": {},
   "outputs": [],
   "source": [
    "T.text(137875,fmt='text-orig-full')"
   ]
  },
  {
   "cell_type": "code",
   "execution_count": null,
   "id": "59a3910c-d9ef-462e-97c1-d8bfb3d6eeb9",
   "metadata": {},
   "outputs": [],
   "source": []
  }
 ],
 "metadata": {
  "kernelspec": {
   "display_name": "env1",
   "language": "python",
   "name": "python3"
  },
  "language_info": {
   "codemirror_mode": {
    "name": "ipython",
    "version": 3
   },
   "file_extension": ".py",
   "mimetype": "text/x-python",
   "name": "python",
   "nbconvert_exporter": "python",
   "pygments_lexer": "ipython3",
   "version": "3.12.7"
  }
 },
 "nbformat": 4,
 "nbformat_minor": 5
}
